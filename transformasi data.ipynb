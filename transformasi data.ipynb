{
  "nbformat": 4,
  "nbformat_minor": 0,
  "metadata": {
    "colab": {
      "provenance": []
    },
    "kernelspec": {
      "name": "python3",
      "display_name": "Python 3"
    },
    "language_info": {
      "name": "python"
    }
  },
  "cells": [
    {
      "cell_type": "markdown",
      "source": [
        "**Klasifikasi Vehicle Dataset**"
      ],
      "metadata": {
        "id": "3VHmq_f7OfM2"
      }
    },
    {
      "cell_type": "markdown",
      "source": [
        "MUJTAHIDA AZMI FITRI\n",
        "\n",
        "23083010036\n",
        "\n",
        "PRAKTIKUM EKSPLORASI DATA ANALISIS"
      ],
      "metadata": {
        "id": "uxpWjaNnOjNu"
      }
    },
    {
      "cell_type": "markdown",
      "source": [
        "**Deskripsi kasus:**\n",
        "\n",
        "Dataset yang digunakan merupakan data transaksi jual-beli rumah di wilayah Seattle, yang mencakup berbagai informasi tentang spesifikasi properti seperti jumlah kamar tidur, luas bangunan, jumlah lantai, kondisi rumah, dan informasi lainnya. Tujuan dari analisis ini adalah untuk meng-analisis distribusi harga rumah.\n",
        "\n",
        "\n",
        "Alasan memilih dataset ini adalah karena banyaknya variasi fitur yang tersedia untuk setiap properti, seperti ukuran rumah, kondisi bangunan, dan lokasi properti, yang diyakini memiliki dampak signifikan terhadap harga jual rumah. Informasi ini sangat relevan bagi pengembang properti, pembeli rumah, dan investor yang ingin memahami tren harga dan faktor-faktor yang mempengaruhi nilai properti di wilayah Seattle.\n"
      ],
      "metadata": {
        "id": "bOdEWWXFOqSj"
      }
    },
    {
      "cell_type": "markdown",
      "source": [
        "Variabel-variabel yang diamati dalam data ini meliputi:\n",
        "1.\tbedrooms - Jumlah kamar tidur.\n",
        "2.\tbathrooms - Jumlah kamar mandi.\n",
        "3.\tsqft_living/luas area hunian - Luas area bangunan dalam satuan sqft.\n",
        "4.\twaterfront - Properti berada di tepi laut (ya/tidak).\n",
        "5.\tfloors - Jumlah lantai dalam properti.\n",
        "6.\tprice - Harga jual properti (target).\n",
        "7. condition - Kondisi umum rumah, dinilai dari 1 hingga 5.\n",
        "8. grade - Kualitas konstruksi dan desain rumah, dengan skor dari 1 (terendah) hingga 13 (tertinggi).\n",
        "\n"
      ],
      "metadata": {
        "id": "D-xg9emQPdlO"
      }
    },
    {
      "cell_type": "code",
      "execution_count": null,
      "metadata": {
        "colab": {
          "base_uri": "https://localhost:8080/"
        },
        "id": "9cmSKd5rk8pi",
        "outputId": "158e1f0a-ff61-402e-d94d-83d231cd94ec"
      },
      "outputs": [
        {
          "output_type": "stream",
          "name": "stdout",
          "text": [
            "Drive already mounted at /content/drive; to attempt to forcibly remount, call drive.mount(\"/content/drive\", force_remount=True).\n"
          ]
        }
      ],
      "source": [
        "from google.colab import drive\n",
        "drive.mount('/content/drive')"
      ]
    },
    {
      "cell_type": "code",
      "source": [
        "import pandas as pd\n",
        "df = pd.read_csv('https://raw.githubusercontent.com/mwaskom/seaborn-data/master/iris.csv')"
      ],
      "metadata": {
        "id": "aDduo0cwlop6"
      },
      "execution_count": null,
      "outputs": []
    },
    {
      "cell_type": "code",
      "source": [
        "!pip install matplotlib-venn"
      ],
      "metadata": {
        "colab": {
          "base_uri": "https://localhost:8080/"
        },
        "id": "QxNnzjYzlr7y",
        "outputId": "a8abf936-a8ff-407c-fbc7-b920aab87664"
      },
      "execution_count": null,
      "outputs": [
        {
          "output_type": "stream",
          "name": "stdout",
          "text": [
            "Requirement already satisfied: matplotlib-venn in /usr/local/lib/python3.10/dist-packages (1.1.1)\n",
            "Requirement already satisfied: matplotlib in /usr/local/lib/python3.10/dist-packages (from matplotlib-venn) (3.7.1)\n",
            "Requirement already satisfied: numpy in /usr/local/lib/python3.10/dist-packages (from matplotlib-venn) (1.26.4)\n",
            "Requirement already satisfied: scipy in /usr/local/lib/python3.10/dist-packages (from matplotlib-venn) (1.13.1)\n",
            "Requirement already satisfied: contourpy>=1.0.1 in /usr/local/lib/python3.10/dist-packages (from matplotlib->matplotlib-venn) (1.3.0)\n",
            "Requirement already satisfied: cycler>=0.10 in /usr/local/lib/python3.10/dist-packages (from matplotlib->matplotlib-venn) (0.12.1)\n",
            "Requirement already satisfied: fonttools>=4.22.0 in /usr/local/lib/python3.10/dist-packages (from matplotlib->matplotlib-venn) (4.53.1)\n",
            "Requirement already satisfied: kiwisolver>=1.0.1 in /usr/local/lib/python3.10/dist-packages (from matplotlib->matplotlib-venn) (1.4.7)\n",
            "Requirement already satisfied: packaging>=20.0 in /usr/local/lib/python3.10/dist-packages (from matplotlib->matplotlib-venn) (24.1)\n",
            "Requirement already satisfied: pillow>=6.2.0 in /usr/local/lib/python3.10/dist-packages (from matplotlib->matplotlib-venn) (10.4.0)\n",
            "Requirement already satisfied: pyparsing>=2.3.1 in /usr/local/lib/python3.10/dist-packages (from matplotlib->matplotlib-venn) (3.1.4)\n",
            "Requirement already satisfied: python-dateutil>=2.7 in /usr/local/lib/python3.10/dist-packages (from matplotlib->matplotlib-venn) (2.8.2)\n",
            "Requirement already satisfied: six>=1.5 in /usr/local/lib/python3.10/dist-packages (from python-dateutil>=2.7->matplotlib->matplotlib-venn) (1.16.0)\n"
          ]
        }
      ]
    },
    {
      "cell_type": "code",
      "source": [
        "!apt-get -qq install -y libfluidsynth1"
      ],
      "metadata": {
        "colab": {
          "base_uri": "https://localhost:8080/"
        },
        "id": "c3XCvXcNlyHc",
        "outputId": "be0d5f35-ef82-44b7-e4a7-7928da3393a8"
      },
      "execution_count": null,
      "outputs": [
        {
          "output_type": "stream",
          "name": "stdout",
          "text": [
            "E: Package 'libfluidsynth1' has no installation candidate\n"
          ]
        }
      ]
    },
    {
      "cell_type": "code",
      "source": [
        "# https://pypi.python.org/pypi/pydot\n",
        "!apt-get -qq install -y graphviz && pip install pydot\n",
        "import pydot"
      ],
      "metadata": {
        "colab": {
          "base_uri": "https://localhost:8080/"
        },
        "id": "px8nTNe0l6Fy",
        "outputId": "bf84c4ee-3edb-4f91-cd88-f6bd073180c7"
      },
      "execution_count": null,
      "outputs": [
        {
          "output_type": "stream",
          "name": "stdout",
          "text": [
            "Requirement already satisfied: pydot in /usr/local/lib/python3.10/dist-packages (3.0.1)\n",
            "Requirement already satisfied: pyparsing>=3.0.9 in /usr/local/lib/python3.10/dist-packages (from pydot) (3.1.4)\n"
          ]
        }
      ]
    },
    {
      "cell_type": "code",
      "source": [
        "!pip install cartopy\n",
        "import cartopy"
      ],
      "metadata": {
        "colab": {
          "base_uri": "https://localhost:8080/"
        },
        "id": "Rk0POh-wl_Ev",
        "outputId": "e8d37699-bf58-4a7c-8fa8-8c8fd5ef072d"
      },
      "execution_count": null,
      "outputs": [
        {
          "output_type": "stream",
          "name": "stdout",
          "text": [
            "Collecting cartopy\n",
            "  Downloading Cartopy-0.23.0-cp310-cp310-manylinux_2_17_x86_64.manylinux2014_x86_64.whl.metadata (8.0 kB)\n",
            "Requirement already satisfied: numpy>=1.21 in /usr/local/lib/python3.10/dist-packages (from cartopy) (1.26.4)\n",
            "Requirement already satisfied: matplotlib>=3.5 in /usr/local/lib/python3.10/dist-packages (from cartopy) (3.7.1)\n",
            "Requirement already satisfied: shapely>=1.7 in /usr/local/lib/python3.10/dist-packages (from cartopy) (2.0.6)\n",
            "Requirement already satisfied: packaging>=20 in /usr/local/lib/python3.10/dist-packages (from cartopy) (24.1)\n",
            "Requirement already satisfied: pyshp>=2.3 in /usr/local/lib/python3.10/dist-packages (from cartopy) (2.3.1)\n",
            "Requirement already satisfied: pyproj>=3.3.1 in /usr/local/lib/python3.10/dist-packages (from cartopy) (3.6.1)\n",
            "Requirement already satisfied: contourpy>=1.0.1 in /usr/local/lib/python3.10/dist-packages (from matplotlib>=3.5->cartopy) (1.3.0)\n",
            "Requirement already satisfied: cycler>=0.10 in /usr/local/lib/python3.10/dist-packages (from matplotlib>=3.5->cartopy) (0.12.1)\n",
            "Requirement already satisfied: fonttools>=4.22.0 in /usr/local/lib/python3.10/dist-packages (from matplotlib>=3.5->cartopy) (4.53.1)\n",
            "Requirement already satisfied: kiwisolver>=1.0.1 in /usr/local/lib/python3.10/dist-packages (from matplotlib>=3.5->cartopy) (1.4.7)\n",
            "Requirement already satisfied: pillow>=6.2.0 in /usr/local/lib/python3.10/dist-packages (from matplotlib>=3.5->cartopy) (10.4.0)\n",
            "Requirement already satisfied: pyparsing>=2.3.1 in /usr/local/lib/python3.10/dist-packages (from matplotlib>=3.5->cartopy) (3.1.4)\n",
            "Requirement already satisfied: python-dateutil>=2.7 in /usr/local/lib/python3.10/dist-packages (from matplotlib>=3.5->cartopy) (2.8.2)\n",
            "Requirement already satisfied: certifi in /usr/local/lib/python3.10/dist-packages (from pyproj>=3.3.1->cartopy) (2024.8.30)\n",
            "Requirement already satisfied: six>=1.5 in /usr/local/lib/python3.10/dist-packages (from python-dateutil>=2.7->matplotlib>=3.5->cartopy) (1.16.0)\n",
            "Downloading Cartopy-0.23.0-cp310-cp310-manylinux_2_17_x86_64.manylinux2014_x86_64.whl (11.6 MB)\n",
            "\u001b[2K   \u001b[90m━━━━━━━━━━━━━━━━━━━━━━━━━━━━━━━━━━━━━━━━\u001b[0m \u001b[32m11.6/11.6 MB\u001b[0m \u001b[31m63.6 MB/s\u001b[0m eta \u001b[36m0:00:00\u001b[0m\n",
            "\u001b[?25hInstalling collected packages: cartopy\n",
            "Successfully installed cartopy-0.23.0\n"
          ]
        }
      ]
    },
    {
      "cell_type": "code",
      "source": [
        "house_data = pd.read_csv('/content/drive/MyDrive/Colab Notebooks/eda/kc_house_data_finish.csv')"
      ],
      "metadata": {
        "id": "sHR-vyzbmEKY"
      },
      "execution_count": null,
      "outputs": []
    },
    {
      "cell_type": "code",
      "source": [
        "house_data.info()"
      ],
      "metadata": {
        "colab": {
          "base_uri": "https://localhost:8080/"
        },
        "id": "2JMAj-9dMzM4",
        "outputId": "615365a8-5089-4368-e106-ab3220d37f83"
      },
      "execution_count": null,
      "outputs": [
        {
          "output_type": "stream",
          "name": "stdout",
          "text": [
            "<class 'pandas.core.frame.DataFrame'>\n",
            "RangeIndex: 21613 entries, 0 to 21612\n",
            "Data columns (total 8 columns):\n",
            " #   Column       Non-Null Count  Dtype  \n",
            "---  ------       --------------  -----  \n",
            " 0   price        21613 non-null  int64  \n",
            " 1   bedrooms     21613 non-null  int64  \n",
            " 2   bathrooms    21613 non-null  float64\n",
            " 3   sqft_living  21613 non-null  int64  \n",
            " 4   floors       21613 non-null  float64\n",
            " 5   waterfront   21613 non-null  int64  \n",
            " 6   condition    21613 non-null  int64  \n",
            " 7   grade        21613 non-null  int64  \n",
            "dtypes: float64(2), int64(6)\n",
            "memory usage: 1.3 MB\n"
          ]
        }
      ]
    },
    {
      "cell_type": "code",
      "source": [
        "house_data.describe()"
      ],
      "metadata": {
        "colab": {
          "base_uri": "https://localhost:8080/",
          "height": 300
        },
        "id": "vb65moK5M0Be",
        "outputId": "1c2aa99d-9341-4f10-e560-7f17e5b738a7"
      },
      "execution_count": null,
      "outputs": [
        {
          "output_type": "execute_result",
          "data": {
            "text/plain": [
              "              price      bedrooms     bathrooms   sqft_living        floors  \\\n",
              "count  2.161300e+04  21613.000000  21613.000000  21613.000000  21613.000000   \n",
              "mean   5.400881e+05      3.370842      2.114757   2079.899736      1.494309   \n",
              "std    3.671272e+05      0.930062      0.770163    918.440897      0.539989   \n",
              "min    7.500000e+04      0.000000      0.000000    290.000000      1.000000   \n",
              "25%    3.219500e+05      3.000000      1.750000   1427.000000      1.000000   \n",
              "50%    4.500000e+05      3.000000      2.250000   1910.000000      1.500000   \n",
              "75%    6.450000e+05      4.000000      2.500000   2550.000000      2.000000   \n",
              "max    7.700000e+06     33.000000      8.000000  13540.000000      3.500000   \n",
              "\n",
              "         waterfront     condition         grade  \n",
              "count  21613.000000  21613.000000  21613.000000  \n",
              "mean       0.007542      3.409430      7.656873  \n",
              "std        0.086517      0.650743      1.175459  \n",
              "min        0.000000      1.000000      1.000000  \n",
              "25%        0.000000      3.000000      7.000000  \n",
              "50%        0.000000      3.000000      7.000000  \n",
              "75%        0.000000      4.000000      8.000000  \n",
              "max        1.000000      5.000000     13.000000  "
            ],
            "text/html": [
              "\n",
              "  <div id=\"df-d5e90abc-41ba-48c7-8e72-633b2095170a\" class=\"colab-df-container\">\n",
              "    <div>\n",
              "<style scoped>\n",
              "    .dataframe tbody tr th:only-of-type {\n",
              "        vertical-align: middle;\n",
              "    }\n",
              "\n",
              "    .dataframe tbody tr th {\n",
              "        vertical-align: top;\n",
              "    }\n",
              "\n",
              "    .dataframe thead th {\n",
              "        text-align: right;\n",
              "    }\n",
              "</style>\n",
              "<table border=\"1\" class=\"dataframe\">\n",
              "  <thead>\n",
              "    <tr style=\"text-align: right;\">\n",
              "      <th></th>\n",
              "      <th>price</th>\n",
              "      <th>bedrooms</th>\n",
              "      <th>bathrooms</th>\n",
              "      <th>sqft_living</th>\n",
              "      <th>floors</th>\n",
              "      <th>waterfront</th>\n",
              "      <th>condition</th>\n",
              "      <th>grade</th>\n",
              "    </tr>\n",
              "  </thead>\n",
              "  <tbody>\n",
              "    <tr>\n",
              "      <th>count</th>\n",
              "      <td>2.161300e+04</td>\n",
              "      <td>21613.000000</td>\n",
              "      <td>21613.000000</td>\n",
              "      <td>21613.000000</td>\n",
              "      <td>21613.000000</td>\n",
              "      <td>21613.000000</td>\n",
              "      <td>21613.000000</td>\n",
              "      <td>21613.000000</td>\n",
              "    </tr>\n",
              "    <tr>\n",
              "      <th>mean</th>\n",
              "      <td>5.400881e+05</td>\n",
              "      <td>3.370842</td>\n",
              "      <td>2.114757</td>\n",
              "      <td>2079.899736</td>\n",
              "      <td>1.494309</td>\n",
              "      <td>0.007542</td>\n",
              "      <td>3.409430</td>\n",
              "      <td>7.656873</td>\n",
              "    </tr>\n",
              "    <tr>\n",
              "      <th>std</th>\n",
              "      <td>3.671272e+05</td>\n",
              "      <td>0.930062</td>\n",
              "      <td>0.770163</td>\n",
              "      <td>918.440897</td>\n",
              "      <td>0.539989</td>\n",
              "      <td>0.086517</td>\n",
              "      <td>0.650743</td>\n",
              "      <td>1.175459</td>\n",
              "    </tr>\n",
              "    <tr>\n",
              "      <th>min</th>\n",
              "      <td>7.500000e+04</td>\n",
              "      <td>0.000000</td>\n",
              "      <td>0.000000</td>\n",
              "      <td>290.000000</td>\n",
              "      <td>1.000000</td>\n",
              "      <td>0.000000</td>\n",
              "      <td>1.000000</td>\n",
              "      <td>1.000000</td>\n",
              "    </tr>\n",
              "    <tr>\n",
              "      <th>25%</th>\n",
              "      <td>3.219500e+05</td>\n",
              "      <td>3.000000</td>\n",
              "      <td>1.750000</td>\n",
              "      <td>1427.000000</td>\n",
              "      <td>1.000000</td>\n",
              "      <td>0.000000</td>\n",
              "      <td>3.000000</td>\n",
              "      <td>7.000000</td>\n",
              "    </tr>\n",
              "    <tr>\n",
              "      <th>50%</th>\n",
              "      <td>4.500000e+05</td>\n",
              "      <td>3.000000</td>\n",
              "      <td>2.250000</td>\n",
              "      <td>1910.000000</td>\n",
              "      <td>1.500000</td>\n",
              "      <td>0.000000</td>\n",
              "      <td>3.000000</td>\n",
              "      <td>7.000000</td>\n",
              "    </tr>\n",
              "    <tr>\n",
              "      <th>75%</th>\n",
              "      <td>6.450000e+05</td>\n",
              "      <td>4.000000</td>\n",
              "      <td>2.500000</td>\n",
              "      <td>2550.000000</td>\n",
              "      <td>2.000000</td>\n",
              "      <td>0.000000</td>\n",
              "      <td>4.000000</td>\n",
              "      <td>8.000000</td>\n",
              "    </tr>\n",
              "    <tr>\n",
              "      <th>max</th>\n",
              "      <td>7.700000e+06</td>\n",
              "      <td>33.000000</td>\n",
              "      <td>8.000000</td>\n",
              "      <td>13540.000000</td>\n",
              "      <td>3.500000</td>\n",
              "      <td>1.000000</td>\n",
              "      <td>5.000000</td>\n",
              "      <td>13.000000</td>\n",
              "    </tr>\n",
              "  </tbody>\n",
              "</table>\n",
              "</div>\n",
              "    <div class=\"colab-df-buttons\">\n",
              "\n",
              "  <div class=\"colab-df-container\">\n",
              "    <button class=\"colab-df-convert\" onclick=\"convertToInteractive('df-d5e90abc-41ba-48c7-8e72-633b2095170a')\"\n",
              "            title=\"Convert this dataframe to an interactive table.\"\n",
              "            style=\"display:none;\">\n",
              "\n",
              "  <svg xmlns=\"http://www.w3.org/2000/svg\" height=\"24px\" viewBox=\"0 -960 960 960\">\n",
              "    <path d=\"M120-120v-720h720v720H120Zm60-500h600v-160H180v160Zm220 220h160v-160H400v160Zm0 220h160v-160H400v160ZM180-400h160v-160H180v160Zm440 0h160v-160H620v160ZM180-180h160v-160H180v160Zm440 0h160v-160H620v160Z\"/>\n",
              "  </svg>\n",
              "    </button>\n",
              "\n",
              "  <style>\n",
              "    .colab-df-container {\n",
              "      display:flex;\n",
              "      gap: 12px;\n",
              "    }\n",
              "\n",
              "    .colab-df-convert {\n",
              "      background-color: #E8F0FE;\n",
              "      border: none;\n",
              "      border-radius: 50%;\n",
              "      cursor: pointer;\n",
              "      display: none;\n",
              "      fill: #1967D2;\n",
              "      height: 32px;\n",
              "      padding: 0 0 0 0;\n",
              "      width: 32px;\n",
              "    }\n",
              "\n",
              "    .colab-df-convert:hover {\n",
              "      background-color: #E2EBFA;\n",
              "      box-shadow: 0px 1px 2px rgba(60, 64, 67, 0.3), 0px 1px 3px 1px rgba(60, 64, 67, 0.15);\n",
              "      fill: #174EA6;\n",
              "    }\n",
              "\n",
              "    .colab-df-buttons div {\n",
              "      margin-bottom: 4px;\n",
              "    }\n",
              "\n",
              "    [theme=dark] .colab-df-convert {\n",
              "      background-color: #3B4455;\n",
              "      fill: #D2E3FC;\n",
              "    }\n",
              "\n",
              "    [theme=dark] .colab-df-convert:hover {\n",
              "      background-color: #434B5C;\n",
              "      box-shadow: 0px 1px 3px 1px rgba(0, 0, 0, 0.15);\n",
              "      filter: drop-shadow(0px 1px 2px rgba(0, 0, 0, 0.3));\n",
              "      fill: #FFFFFF;\n",
              "    }\n",
              "  </style>\n",
              "\n",
              "    <script>\n",
              "      const buttonEl =\n",
              "        document.querySelector('#df-d5e90abc-41ba-48c7-8e72-633b2095170a button.colab-df-convert');\n",
              "      buttonEl.style.display =\n",
              "        google.colab.kernel.accessAllowed ? 'block' : 'none';\n",
              "\n",
              "      async function convertToInteractive(key) {\n",
              "        const element = document.querySelector('#df-d5e90abc-41ba-48c7-8e72-633b2095170a');\n",
              "        const dataTable =\n",
              "          await google.colab.kernel.invokeFunction('convertToInteractive',\n",
              "                                                    [key], {});\n",
              "        if (!dataTable) return;\n",
              "\n",
              "        const docLinkHtml = 'Like what you see? Visit the ' +\n",
              "          '<a target=\"_blank\" href=https://colab.research.google.com/notebooks/data_table.ipynb>data table notebook</a>'\n",
              "          + ' to learn more about interactive tables.';\n",
              "        element.innerHTML = '';\n",
              "        dataTable['output_type'] = 'display_data';\n",
              "        await google.colab.output.renderOutput(dataTable, element);\n",
              "        const docLink = document.createElement('div');\n",
              "        docLink.innerHTML = docLinkHtml;\n",
              "        element.appendChild(docLink);\n",
              "      }\n",
              "    </script>\n",
              "  </div>\n",
              "\n",
              "\n",
              "<div id=\"df-71d31ca2-87f6-416b-beed-82bd764108f3\">\n",
              "  <button class=\"colab-df-quickchart\" onclick=\"quickchart('df-71d31ca2-87f6-416b-beed-82bd764108f3')\"\n",
              "            title=\"Suggest charts\"\n",
              "            style=\"display:none;\">\n",
              "\n",
              "<svg xmlns=\"http://www.w3.org/2000/svg\" height=\"24px\"viewBox=\"0 0 24 24\"\n",
              "     width=\"24px\">\n",
              "    <g>\n",
              "        <path d=\"M19 3H5c-1.1 0-2 .9-2 2v14c0 1.1.9 2 2 2h14c1.1 0 2-.9 2-2V5c0-1.1-.9-2-2-2zM9 17H7v-7h2v7zm4 0h-2V7h2v10zm4 0h-2v-4h2v4z\"/>\n",
              "    </g>\n",
              "</svg>\n",
              "  </button>\n",
              "\n",
              "<style>\n",
              "  .colab-df-quickchart {\n",
              "      --bg-color: #E8F0FE;\n",
              "      --fill-color: #1967D2;\n",
              "      --hover-bg-color: #E2EBFA;\n",
              "      --hover-fill-color: #174EA6;\n",
              "      --disabled-fill-color: #AAA;\n",
              "      --disabled-bg-color: #DDD;\n",
              "  }\n",
              "\n",
              "  [theme=dark] .colab-df-quickchart {\n",
              "      --bg-color: #3B4455;\n",
              "      --fill-color: #D2E3FC;\n",
              "      --hover-bg-color: #434B5C;\n",
              "      --hover-fill-color: #FFFFFF;\n",
              "      --disabled-bg-color: #3B4455;\n",
              "      --disabled-fill-color: #666;\n",
              "  }\n",
              "\n",
              "  .colab-df-quickchart {\n",
              "    background-color: var(--bg-color);\n",
              "    border: none;\n",
              "    border-radius: 50%;\n",
              "    cursor: pointer;\n",
              "    display: none;\n",
              "    fill: var(--fill-color);\n",
              "    height: 32px;\n",
              "    padding: 0;\n",
              "    width: 32px;\n",
              "  }\n",
              "\n",
              "  .colab-df-quickchart:hover {\n",
              "    background-color: var(--hover-bg-color);\n",
              "    box-shadow: 0 1px 2px rgba(60, 64, 67, 0.3), 0 1px 3px 1px rgba(60, 64, 67, 0.15);\n",
              "    fill: var(--button-hover-fill-color);\n",
              "  }\n",
              "\n",
              "  .colab-df-quickchart-complete:disabled,\n",
              "  .colab-df-quickchart-complete:disabled:hover {\n",
              "    background-color: var(--disabled-bg-color);\n",
              "    fill: var(--disabled-fill-color);\n",
              "    box-shadow: none;\n",
              "  }\n",
              "\n",
              "  .colab-df-spinner {\n",
              "    border: 2px solid var(--fill-color);\n",
              "    border-color: transparent;\n",
              "    border-bottom-color: var(--fill-color);\n",
              "    animation:\n",
              "      spin 1s steps(1) infinite;\n",
              "  }\n",
              "\n",
              "  @keyframes spin {\n",
              "    0% {\n",
              "      border-color: transparent;\n",
              "      border-bottom-color: var(--fill-color);\n",
              "      border-left-color: var(--fill-color);\n",
              "    }\n",
              "    20% {\n",
              "      border-color: transparent;\n",
              "      border-left-color: var(--fill-color);\n",
              "      border-top-color: var(--fill-color);\n",
              "    }\n",
              "    30% {\n",
              "      border-color: transparent;\n",
              "      border-left-color: var(--fill-color);\n",
              "      border-top-color: var(--fill-color);\n",
              "      border-right-color: var(--fill-color);\n",
              "    }\n",
              "    40% {\n",
              "      border-color: transparent;\n",
              "      border-right-color: var(--fill-color);\n",
              "      border-top-color: var(--fill-color);\n",
              "    }\n",
              "    60% {\n",
              "      border-color: transparent;\n",
              "      border-right-color: var(--fill-color);\n",
              "    }\n",
              "    80% {\n",
              "      border-color: transparent;\n",
              "      border-right-color: var(--fill-color);\n",
              "      border-bottom-color: var(--fill-color);\n",
              "    }\n",
              "    90% {\n",
              "      border-color: transparent;\n",
              "      border-bottom-color: var(--fill-color);\n",
              "    }\n",
              "  }\n",
              "</style>\n",
              "\n",
              "  <script>\n",
              "    async function quickchart(key) {\n",
              "      const quickchartButtonEl =\n",
              "        document.querySelector('#' + key + ' button');\n",
              "      quickchartButtonEl.disabled = true;  // To prevent multiple clicks.\n",
              "      quickchartButtonEl.classList.add('colab-df-spinner');\n",
              "      try {\n",
              "        const charts = await google.colab.kernel.invokeFunction(\n",
              "            'suggestCharts', [key], {});\n",
              "      } catch (error) {\n",
              "        console.error('Error during call to suggestCharts:', error);\n",
              "      }\n",
              "      quickchartButtonEl.classList.remove('colab-df-spinner');\n",
              "      quickchartButtonEl.classList.add('colab-df-quickchart-complete');\n",
              "    }\n",
              "    (() => {\n",
              "      let quickchartButtonEl =\n",
              "        document.querySelector('#df-71d31ca2-87f6-416b-beed-82bd764108f3 button');\n",
              "      quickchartButtonEl.style.display =\n",
              "        google.colab.kernel.accessAllowed ? 'block' : 'none';\n",
              "    })();\n",
              "  </script>\n",
              "</div>\n",
              "\n",
              "    </div>\n",
              "  </div>\n"
            ],
            "application/vnd.google.colaboratory.intrinsic+json": {
              "type": "dataframe",
              "summary": "{\n  \"name\": \"house_data\",\n  \"rows\": 8,\n  \"fields\": [\n    {\n      \"column\": \"price\",\n      \"properties\": {\n        \"dtype\": \"number\",\n        \"std\": 2608803.1528446754,\n        \"min\": 21613.0,\n        \"max\": 7700000.0,\n        \"num_unique_values\": 8,\n        \"samples\": [\n          540088.1417665294,\n          450000.0,\n          21613.0\n        ],\n        \"semantic_type\": \"\",\n        \"description\": \"\"\n      }\n    },\n    {\n      \"column\": \"bedrooms\",\n      \"properties\": {\n        \"dtype\": \"number\",\n        \"std\": 7638.9680008312425,\n        \"min\": 0.0,\n        \"max\": 21613.0,\n        \"num_unique_values\": 7,\n        \"samples\": [\n          21613.0,\n          3.37084162309721,\n          4.0\n        ],\n        \"semantic_type\": \"\",\n        \"description\": \"\"\n      }\n    },\n    {\n      \"column\": \"bathrooms\",\n      \"properties\": {\n        \"dtype\": \"number\",\n        \"std\": 7640.471736224687,\n        \"min\": 0.0,\n        \"max\": 21613.0,\n        \"num_unique_values\": 8,\n        \"samples\": [\n          2.1147573219821405,\n          2.25,\n          21613.0\n        ],\n        \"semantic_type\": \"\",\n        \"description\": \"\"\n      }\n    },\n    {\n      \"column\": \"sqft_living\",\n      \"properties\": {\n        \"dtype\": \"number\",\n        \"std\": 7766.85900551995,\n        \"min\": 290.0,\n        \"max\": 21613.0,\n        \"num_unique_values\": 8,\n        \"samples\": [\n          2079.8997362698374,\n          1910.0,\n          21613.0\n        ],\n        \"semantic_type\": \"\",\n        \"description\": \"\"\n      }\n    },\n    {\n      \"column\": \"floors\",\n      \"properties\": {\n        \"dtype\": \"number\",\n        \"std\": 7640.792167327785,\n        \"min\": 0.5399888951423463,\n        \"max\": 21613.0,\n        \"num_unique_values\": 7,\n        \"samples\": [\n          21613.0,\n          1.4943089807060566,\n          2.0\n        ],\n        \"semantic_type\": \"\",\n        \"description\": \"\"\n      }\n    },\n    {\n      \"column\": \"waterfront\",\n      \"properties\": {\n        \"dtype\": \"number\",\n        \"std\": 7641.294180390358,\n        \"min\": 0.0,\n        \"max\": 21613.0,\n        \"num_unique_values\": 5,\n        \"samples\": [\n          0.007541757275713691,\n          1.0,\n          0.08651719772788764\n        ],\n        \"semantic_type\": \"\",\n        \"description\": \"\"\n      }\n    },\n    {\n      \"column\": \"condition\",\n      \"properties\": {\n        \"dtype\": \"number\",\n        \"std\": 7640.336375298775,\n        \"min\": 0.6507430463662071,\n        \"max\": 21613.0,\n        \"num_unique_values\": 7,\n        \"samples\": [\n          21613.0,\n          3.4094295100171195,\n          4.0\n        ],\n        \"semantic_type\": \"\",\n        \"description\": \"\"\n      }\n    },\n    {\n      \"column\": \"grade\",\n      \"properties\": {\n        \"dtype\": \"number\",\n        \"std\": 7639.08603681126,\n        \"min\": 1.0,\n        \"max\": 21613.0,\n        \"num_unique_values\": 7,\n        \"samples\": [\n          21613.0,\n          7.656873178179799,\n          8.0\n        ],\n        \"semantic_type\": \"\",\n        \"description\": \"\"\n      }\n    }\n  ]\n}"
            }
          },
          "metadata": {},
          "execution_count": 13
        }
      ]
    },
    {
      "cell_type": "markdown",
      "source": [
        "**Visualisasi Distribusi Harga Rumah**"
      ],
      "metadata": {
        "id": "59BQC8c0Lt3v"
      }
    },
    {
      "cell_type": "code",
      "source": [
        "# Visualisasi distribusi harga\n",
        "sns.histplot(house_data['price'], kde=True)\n",
        "plt.title('Price Distribution')\n",
        "\n",
        "# Boxplot untuk harga\n",
        "sns.boxplot(x=house_data['price'])\n",
        "plt.title('Boxplot of House Prices')"
      ],
      "metadata": {
        "colab": {
          "base_uri": "https://localhost:8080/",
          "height": 497
        },
        "id": "EWsnC2MInNcW",
        "outputId": "ccfe34ca-3c64-48ae-ea6d-ed35e5be5462"
      },
      "execution_count": null,
      "outputs": [
        {
          "output_type": "execute_result",
          "data": {
            "text/plain": [
              "Text(0.5, 1.0, 'Boxplot of House Prices')"
            ]
          },
          "metadata": {},
          "execution_count": 5
        },
        {
          "output_type": "display_data",
          "data": {
            "text/plain": [
              "<Figure size 640x480 with 1 Axes>"
            ],
            "image/png": "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\n"
          },
          "metadata": {}
        }
      ]
    },
    {
      "cell_type": "markdown",
      "source": [
        "lebih banyak rumah dengan harga rendah hingga menengah, sementara ada sedikit rumah dengan harga sangat tinggi."
      ],
      "metadata": {
        "id": "dBVAvD92O6H3"
      }
    },
    {
      "cell_type": "markdown",
      "source": [
        "**Analisis Korelasi Harga dengan Fitur Lain**"
      ],
      "metadata": {
        "id": "oEUSROv-L3fR"
      }
    },
    {
      "cell_type": "code",
      "source": [
        "# Scatter plot: Price vs Sqft Living\n",
        "sns.scatterplot(x=house_data['sqft_living'], y=house_data['price'])\n",
        "plt.title('Price vs Sqft Living')\n",
        "\n",
        "# Boxplot: Price vs Bedrooms\n",
        "sns.boxplot(x=house_data['bedrooms'], y=house_data['price'])\n",
        "plt.title('Price vs Bedrooms')"
      ],
      "metadata": {
        "colab": {
          "base_uri": "https://localhost:8080/",
          "height": 497
        },
        "id": "8k1_4tvVniHp",
        "outputId": "3dd3dbb7-750f-4bb8-9f7e-44a412eb7e4f"
      },
      "execution_count": null,
      "outputs": [
        {
          "output_type": "execute_result",
          "data": {
            "text/plain": [
              "Text(0.5, 1.0, 'Price vs Bedrooms')"
            ]
          },
          "metadata": {},
          "execution_count": 7
        },
        {
          "output_type": "display_data",
          "data": {
            "text/plain": [
              "<Figure size 640x480 with 1 Axes>"
            ],
            "image/png": "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\n"
          },
          "metadata": {}
        }
      ]
    },
    {
      "cell_type": "markdown",
      "source": [
        "\n",
        "1.   Luas Area Rumah (Sqft Living): semakin besar luas rumah, semakin tinggi harganya.\n",
        "2.   Jumlah Kamar Tidur & Kamar Mandi: lebih banyak kamar tidur dan kamar mandi dikaitkan dengan harga rumah yang lebih tinggi, tetapi efeknya tidak sekuat luas area rumah.\n",
        "3. Pemandangan Air (Waterfront): Rumah dengan pemandangan air secara signifikan memiliki harga lebih tinggi dibandingkan rumah tanpa pemandangan air.\n",
        "4. Jumlah Lantai: Rumah bertingkat lebih cenderung memiliki harga yang lebih tinggi dibandingkan rumah satu lantai, meskipun perbedaannya tidak terlalu besar.\n",
        "\n",
        "\n"
      ],
      "metadata": {
        "id": "SbD7hNmzNv4p"
      }
    },
    {
      "cell_type": "markdown",
      "source": [
        "**Analisis Outlier**"
      ],
      "metadata": {
        "id": "V-lP6MvfMEPL"
      }
    },
    {
      "cell_type": "code",
      "source": [
        "# Mengidentifikasi outlier pada harga\n",
        "Q1 = house_data['price'].quantile(0.25)\n",
        "Q3 = house_data['price'].quantile(0.75)\n",
        "IQR = Q3 - Q1\n",
        "outliers = house_data[(house_data['price'] < (Q1 - 1.5 * IQR)) | (house_data['price'] > (Q3 + 1.5 * IQR))]\n",
        "print(outliers)"
      ],
      "metadata": {
        "colab": {
          "base_uri": "https://localhost:8080/"
        },
        "id": "6cMnUSCznpX-",
        "outputId": "a5a841d2-f4b0-4206-dfe2-66f772b06fc1"
      },
      "execution_count": null,
      "outputs": [
        {
          "output_type": "stream",
          "name": "stdout",
          "text": [
            "         price  bedrooms  bathrooms  sqft_living  floors  waterfront  \\\n",
            "5      1225000         4       4.50         5420     1.0           0   \n",
            "21     2000000         3       2.75         3050     1.0           0   \n",
            "49     1350000         3       2.50         2753     1.0           1   \n",
            "69     1325000         5       2.25         3200     1.0           0   \n",
            "125    1450000         4       2.75         2750     1.5           0   \n",
            "...        ...       ...        ...          ...     ...         ...   \n",
            "21568  1700000         4       3.50         3830     2.0           0   \n",
            "21576  3567000         5       4.50         4850     2.0           1   \n",
            "21590  1222500         4       3.50         4910     1.5           0   \n",
            "21597  1575000         4       3.25         3410     2.0           0   \n",
            "21600  1537000         5       3.75         4470     2.0           0   \n",
            "\n",
            "       condition  grade  \n",
            "5              3     11  \n",
            "21             3      9  \n",
            "49             5      9  \n",
            "69             3      8  \n",
            "125            3      8  \n",
            "...          ...    ...  \n",
            "21568          3     10  \n",
            "21576          3     10  \n",
            "21590          3     11  \n",
            "21597          3     10  \n",
            "21600          3     11  \n",
            "\n",
            "[1146 rows x 8 columns]\n"
          ]
        }
      ]
    },
    {
      "cell_type": "markdown",
      "source": [
        "Beberapa rumah dengan harga sangat tinggi mungkin merupakan outlier, yang biasanya terletak di area dengan pemandangan air atau memiliki fitur unik yang meningkatkan nilai properti."
      ],
      "metadata": {
        "id": "hXUvQYX2PHcq"
      }
    },
    {
      "cell_type": "markdown",
      "source": [
        "**Clustering atau Segmen Harga**"
      ],
      "metadata": {
        "id": "nqxPgnByojL2"
      }
    },
    {
      "cell_type": "code",
      "source": [
        "# Membagi harga menjadi kategori (Low, Medium, High)\n",
        "house_data['price_category'] = pd.qcut(house_data['price'], q=3, labels=['Low', 'Medium', 'High'])\n",
        "\n",
        "# Visualisasi harga berdasarkan kategori\n",
        "sns.boxplot(x='price_category', y='price', data=house_data)\n",
        "plt.title('House Prices by Category')"
      ],
      "metadata": {
        "colab": {
          "base_uri": "https://localhost:8080/",
          "height": 497
        },
        "id": "vSXxeJWHErb1",
        "outputId": "4397b51c-dafd-468e-8c6a-3b7419f961d0"
      },
      "execution_count": null,
      "outputs": [
        {
          "output_type": "execute_result",
          "data": {
            "text/plain": [
              "Text(0.5, 1.0, 'House Prices by Category')"
            ]
          },
          "metadata": {},
          "execution_count": 9
        },
        {
          "output_type": "display_data",
          "data": {
            "text/plain": [
              "<Figure size 640x480 with 1 Axes>"
            ],
            "image/png": "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\n"
          },
          "metadata": {}
        }
      ]
    },
    {
      "cell_type": "markdown",
      "source": [
        "Rumah bisa dibagi menjadi kategori harga Low, Medium, dan High. Rumah-rumah di kategori High cenderung memiliki kombinasi fitur premium, termasuk luas area yang lebih besar, lebih banyak lantai, dan berada di lokasi-lokasi tertentu (misalnya dekat air)."
      ],
      "metadata": {
        "id": "2D8hGFrOOjA1"
      }
    },
    {
      "cell_type": "markdown",
      "source": [
        "**Analisis Faktor Eksternal**"
      ],
      "metadata": {
        "id": "eY9Nm6JQFCfV"
      }
    },
    {
      "cell_type": "code",
      "source": [
        "# Visualisasi hubungan antara harga dan waterfront\n",
        "sns.boxplot(x='waterfront', y='price', data=house_data)\n",
        "plt.title('Price vs Waterfront')"
      ],
      "metadata": {
        "colab": {
          "base_uri": "https://localhost:8080/",
          "height": 497
        },
        "id": "kniA6qPdFFzw",
        "outputId": "a5d822c7-5189-49d3-94ed-d9576085ef15"
      },
      "execution_count": null,
      "outputs": [
        {
          "output_type": "execute_result",
          "data": {
            "text/plain": [
              "Text(0.5, 1.0, 'Price vs Waterfront')"
            ]
          },
          "metadata": {},
          "execution_count": 10
        },
        {
          "output_type": "display_data",
          "data": {
            "text/plain": [
              "<Figure size 640x480 with 1 Axes>"
            ],
            "image/png": "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\n"
          },
          "metadata": {}
        }
      ]
    },
    {
      "cell_type": "markdown",
      "source": [
        "Harga rumah dipengaruhi oleh kombinasi fitur, di mana luas area dan lokasi (terutama pemandangan air) menjadi faktor utama yang berpengaruh besar pada harga. Meskipun fitur seperti jumlah kamar tidur dan kamar mandi juga mempengaruhi, dampaknya tidak sebesar luas area.\n",
        "\n",
        "Distribusi harga rumah tidak merata, dengan banyaknya rumah berharga rendah hingga menengah dan sedikit rumah dengan harga sangat tinggi yang sering menjadi outlier."
      ],
      "metadata": {
        "id": "7vKewBzcOqts"
      }
    },
    {
      "cell_type": "markdown",
      "source": [
        "**missing value**"
      ],
      "metadata": {
        "id": "Is7RL5RAPfvX"
      }
    },
    {
      "cell_type": "code",
      "source": [
        "import pandas as pd\n",
        "\n",
        "# Langkah 1: Cek missing values\n",
        "missing_values = house_data.isnull().sum()\n",
        "\n",
        "# Print hasil pengecekan missing values\n",
        "print(\"Missing values per column:\")\n",
        "print(missing_values)\n",
        "\n",
        "# Jika tidak ada missing values, lanjutkan ke pembuatan dummy variabel\n",
        "if missing_values.sum() == 0:\n",
        "    print(\"\\nTidak ada missing value.\")"
      ],
      "metadata": {
        "colab": {
          "base_uri": "https://localhost:8080/"
        },
        "id": "Tw_AEXWgPlaZ",
        "outputId": "1f58baef-bd69-4b37-9a69-4e1b4bc55895"
      },
      "execution_count": null,
      "outputs": [
        {
          "output_type": "stream",
          "name": "stdout",
          "text": [
            "Missing values per column:\n",
            "price          0\n",
            "bedrooms       0\n",
            "bathrooms      0\n",
            "sqft_living    0\n",
            "floors         0\n",
            "waterfront     0\n",
            "condition      0\n",
            "grade          0\n",
            "dtype: int64\n",
            "\n",
            "Tidak ada missing value.\n"
          ]
        }
      ]
    },
    {
      "cell_type": "markdown",
      "source": [
        "**Dummy variabel**"
      ],
      "metadata": {
        "id": "xTNdeUxCQHL7"
      }
    },
    {
      "cell_type": "code",
      "source": [
        "# Kolom yang dianggap sebagai data kategorik dan akan diubah menjadi dummy variabel\n",
        "# Jika ada kolom yang Anda anggap kategorik, tambahkan di sini\n",
        "categorical_columns = ['floors', 'waterfront', 'condition', 'grade']\n",
        "\n",
        "# Membuat dummy variabel dari kolom kategorik\n",
        "data_dummy = pd.get_dummies(data, columns=categorical_columns, drop_first=True)\n",
        "\n",
        "# Menampilkan beberapa baris pertama dari dataset baru dengan dummy variabel\n",
        "print(data_dummy.head())\n",
        "\n",
        "# Menampilkan informasi dataset dengan dummy variabel\n",
        "data_dummy.info()"
      ],
      "metadata": {
        "colab": {
          "base_uri": "https://localhost:8080/"
        },
        "id": "Seh1JnMyQM0_",
        "outputId": "fec00335-5abc-4035-a266-f43cd6566dda"
      },
      "execution_count": null,
      "outputs": [
        {
          "output_type": "stream",
          "name": "stdout",
          "text": [
            "    price  bedrooms  bathrooms  sqft_living  floors_1.5  floors_2.0  \\\n",
            "0  221900         3       1.00         1180       False       False   \n",
            "1  538000         3       2.25         2570       False        True   \n",
            "2  180000         2       1.00          770       False       False   \n",
            "3  604000         4       3.00         1960       False       False   \n",
            "4  510000         3       2.00         1680       False       False   \n",
            "\n",
            "   floors_2.5  floors_3.0  floors_3.5  waterfront_1  ...  grade_4  grade_5  \\\n",
            "0       False       False       False         False  ...    False    False   \n",
            "1       False       False       False         False  ...    False    False   \n",
            "2       False       False       False         False  ...    False    False   \n",
            "3       False       False       False         False  ...    False    False   \n",
            "4       False       False       False         False  ...    False    False   \n",
            "\n",
            "   grade_6  grade_7  grade_8  grade_9  grade_10  grade_11  grade_12  grade_13  \n",
            "0    False     True    False    False     False     False     False     False  \n",
            "1    False     True    False    False     False     False     False     False  \n",
            "2     True    False    False    False     False     False     False     False  \n",
            "3    False     True    False    False     False     False     False     False  \n",
            "4    False    False     True    False     False     False     False     False  \n",
            "\n",
            "[5 rows x 25 columns]\n",
            "<class 'pandas.core.frame.DataFrame'>\n",
            "RangeIndex: 21613 entries, 0 to 21612\n",
            "Data columns (total 25 columns):\n",
            " #   Column        Non-Null Count  Dtype  \n",
            "---  ------        --------------  -----  \n",
            " 0   price         21613 non-null  int64  \n",
            " 1   bedrooms      21613 non-null  int64  \n",
            " 2   bathrooms     21613 non-null  float64\n",
            " 3   sqft_living   21613 non-null  int64  \n",
            " 4   floors_1.5    21613 non-null  bool   \n",
            " 5   floors_2.0    21613 non-null  bool   \n",
            " 6   floors_2.5    21613 non-null  bool   \n",
            " 7   floors_3.0    21613 non-null  bool   \n",
            " 8   floors_3.5    21613 non-null  bool   \n",
            " 9   waterfront_1  21613 non-null  bool   \n",
            " 10  condition_2   21613 non-null  bool   \n",
            " 11  condition_3   21613 non-null  bool   \n",
            " 12  condition_4   21613 non-null  bool   \n",
            " 13  condition_5   21613 non-null  bool   \n",
            " 14  grade_3       21613 non-null  bool   \n",
            " 15  grade_4       21613 non-null  bool   \n",
            " 16  grade_5       21613 non-null  bool   \n",
            " 17  grade_6       21613 non-null  bool   \n",
            " 18  grade_7       21613 non-null  bool   \n",
            " 19  grade_8       21613 non-null  bool   \n",
            " 20  grade_9       21613 non-null  bool   \n",
            " 21  grade_10      21613 non-null  bool   \n",
            " 22  grade_11      21613 non-null  bool   \n",
            " 23  grade_12      21613 non-null  bool   \n",
            " 24  grade_13      21613 non-null  bool   \n",
            "dtypes: bool(21), float64(1), int64(3)\n",
            "memory usage: 1.1 MB\n"
          ]
        }
      ]
    },
    {
      "cell_type": "markdown",
      "source": [
        "-floors: Setiap kolom dummy ini menunjukkan apakah rumah tersebut memiliki jumlah lantai tertentu.\n",
        "\n",
        "-waterfront: menunjukkan apakah rumah terletak di tepi air (waterfront/tepi air) atau tidak.\n",
        "\n",
        "-condition: Kolom-kolom ini merepresentasikan kondisi rumah dari nilai 2 hingga 5, bernilai True jika rumah dalam kondisi 2 (buruk), sedangkan condition_5 bernilai True jika rumah dalam kondisi terbaik.\n",
        "\n",
        "-grade: representasi dari kelas atau kualitas rumah dalam hal konstruksi dan desain. Jika grade_6 bernilai True, maka rumah tersebut memiliki kualitas grade 6, Jika grade_9 bernilai True, maka rumah tersebut memiliki kualitas grade 9."
      ],
      "metadata": {
        "id": "poUmqi-xOKRv"
       ]
        }
      ]
    },
    {
      "cell_type": "markdown",
      "source": [
        "1. Mean (Rata-rata): Harga rata-rata rumah setelah outlier dihapus menjadi lebih representatif, yaitu sekitar $540,000 ,  yang menunjukkan penurunan dari distribusi sebelumnya yang mungkin sangat dipengaruhi oleh rumah-rumah mewah.\n",
        "\n",
        "2. Max (Harga Tertinggi): Harga tertinggi setelah outlier dihapus turun menjadi 1 juta, sementara sebelumnya mungkin terdapat rumah dengan harga lebih dari 3 juta.\n",
        "\n",
        "3. Standard Deviation (std): Standar deviasi menurun, yang menunjukkan bahwa variabilitas harga rumah sekarang lebih terfokus pada rentang yang wajar tanpa outlier yang mengacaukan distribusi.\n",
        "\n",
      }
    }
  ]
}
